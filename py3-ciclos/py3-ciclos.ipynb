{
  "nbformat": 4,
  "nbformat_minor": 0,
  "metadata": {
    "colab": {
      "name": "py3-ciclos.ipynb",
      "provenance": [],
      "collapsed_sections": [],
      "authorship_tag": "ABX9TyM+25zeIO5AB0bYDLxETuYq",
      "include_colab_link": true
    },
    "kernelspec": {
      "name": "python3",
      "display_name": "Python 3"
    },
    "language_info": {
      "name": "python"
    }
  },
  "cells": [
    {
      "cell_type": "markdown",
      "metadata": {
        "id": "view-in-github",
        "colab_type": "text"
      },
      "source": [
        "<a href=\"https://colab.research.google.com/github/JulianCarrero/TrabajosProgramacionAplicada/blob/main/py3-ciclos/py3-ciclos.ipynb\" target=\"_parent\"><img src=\"https://colab.research.google.com/assets/colab-badge.svg\" alt=\"Open In Colab\"/></a>"
      ]
    },
    {
      "cell_type": "markdown",
      "metadata": {
        "id": "ahn6-wwo_KMb"
      },
      "source": [
        "#**Ejemplo de operaciones con listas en Python**\n",
        "##_Julian David Carrero Ariza_\n",
        "$20201005199$\n",
        "\n"
      ]
    },
    {
      "cell_type": "markdown",
      "metadata": {
        "id": "SLeYd-Ox_4C8"
      },
      "source": [
        "###**Ejercicio #1**\n",
        "Asumiendo que 𝐴, 𝐵, 𝐶 son listas con 𝑛 datos. Realice un programa que ejecute la siguiente sumatoria\n",
        "![Sumatoria_Ejercicio1](https://scontent.fbog2-4.fna.fbcdn.net/v/t39.30808-6/259304087_1283759448769930_7415655135238422454_n.jpg?_nc_cat=100&_nc_rgb565=1&ccb=1-5&_nc_sid=0debeb&_nc_ohc=EMyi6kjZM3MAX_BtEvJ&_nc_ht=scontent.fbog2-4.fna&oh=f225373ab7f4152a26b6ca66a4639f29&oe=619E28F9)"
      ]
    },
    {
      "cell_type": "code",
      "metadata": {
        "colab": {
          "base_uri": "https://localhost:8080/"
        },
        "id": "cJ0jfX5B-8u3",
        "outputId": "c7e83421-cf89-4d49-90d7-2a3a9e073920"
      },
      "source": [
        "A=[4,6,8]\n",
        "B=[2,2,2]\n",
        "C=[1,2,3]\n",
        "def sumatoria_1(A,B,C):\n",
        "    n=len(A)\n",
        "    acumulador=0\n",
        "    for i in range(n):\n",
        "        d = B[i]+C[i]\n",
        "        e = A[i]*d\n",
        "        acumulador += e\n",
        "    resultado = acumulador / n\n",
        "    return resultado\n",
        "print(sumatoria_1(A, B, C))\n",
        "\n",
        "resultado_1 = (4*(2+1)+6*(2+2)+8*(2+3))/3\n",
        "print(resultado_1)"
      ],
      "execution_count": null,
      "outputs": [
        {
          "output_type": "stream",
          "name": "stdout",
          "text": [
            "25.333333333333332\n",
            "25.333333333333332\n"
          ]
        }
      ]
    },
    {
      "cell_type": "markdown",
      "metadata": {
        "id": "aVjucm3XBk85"
      },
      "source": [
        "###**Ejercicio #2**\n",
        "Asumiendo que 𝐴, 𝐵, son listas con 2𝑛 datos cada una. Realice un programa que ejecute la siguiente sumatoria\n",
        "![Sumatoria_Ejercicio2](https://scontent.fbog2-4.fna.fbcdn.net/v/t39.30808-6/258878766_1283760242103184_2654055912512752215_n.jpg?_nc_cat=100&_nc_rgb565=1&ccb=1-5&_nc_sid=0debeb&_nc_ohc=W5yQ5Ur03gQAX-OyNY8&_nc_ht=scontent.fbog2-4.fna&oh=d3beeb4a85afa28557f0db98aca7949f&oe=619E02E0)"
      ]
    },
    {
      "cell_type": "code",
      "metadata": {
        "colab": {
          "base_uri": "https://localhost:8080/"
        },
        "id": "jq0-750tCBAD",
        "outputId": "7caa96d9-d617-4944-b024-84423e33e0e8"
      },
      "source": [
        "A=[4,6,8,2]\n",
        "B=[2,1,0,-1]\n",
        "def sumatoria_2(A,B):\n",
        "    n=len(A)//2\n",
        "    acumulador = 0\n",
        "    for i in range(n):\n",
        "        c = A[i]+B[n+i]\n",
        "        d=A[2*i]-B[2*i+1]\n",
        "        e=c*d\n",
        "        acumulador += e\n",
        "    return acumulador\n",
        "print(sumatoria_2(A, B))\n",
        "\n",
        "resultado_2 = (4+0)*(4-1)+(6+(-1))*(8-(-1))\n",
        "print(resultado_2)"
      ],
      "execution_count": null,
      "outputs": [
        {
          "output_type": "stream",
          "name": "stdout",
          "text": [
            "57\n",
            "57\n"
          ]
        }
      ]
    },
    {
      "cell_type": "markdown",
      "metadata": {
        "id": "-U280QJvCBNL"
      },
      "source": [
        "###**Ejercicio #3**\n",
        "Asumiendo que 𝐴, 𝐵, son listas con 2𝑛 datos cada una. Realice un programa que retorne otra lista pero de n datos\n",
        "![Sumatoria_Ejercicio3](https://scontent.fbog2-3.fna.fbcdn.net/v/t39.30808-6/259185096_1283760842103124_8605310184082336892_n.jpg?_nc_cat=106&_nc_rgb565=1&ccb=1-5&_nc_sid=0debeb&_nc_ohc=HgpOoOeCeskAX8jjIHe&_nc_ht=scontent.fbog2-3.fna&oh=4de627bfa2b7b2ef041f48493b48e2b4&oe=619DA944)"
      ]
    },
    {
      "cell_type": "code",
      "metadata": {
        "colab": {
          "base_uri": "https://localhost:8080/"
        },
        "id": "Bc4zK9EiCST7",
        "outputId": "e1bd2c0b-abdd-4180-b3ae-f74748fabe17"
      },
      "source": [
        "def llena_lista_1(A,B):\n",
        "    n=len(A)//2\n",
        "    C=[]\n",
        "    for i in range(n):\n",
        "        d=A[2*i]-B[2*i+1]\n",
        "        e=A[i]*d\n",
        "        f=e+B[n+i]\n",
        "        C.append(f)\n",
        "    return C\n",
        "print(llena_lista_1(A, B))\n",
        "\n",
        "resultado_3 = [4*(4-1)+0,6*(8-(-1))+(-1)]\n",
        "print(resultado_3)"
      ],
      "execution_count": null,
      "outputs": [
        {
          "output_type": "stream",
          "name": "stdout",
          "text": [
            "[12, 53]\n",
            "[12, 53]\n"
          ]
        }
      ]
    },
    {
      "cell_type": "markdown",
      "metadata": {
        "id": "KL8NhYtwCSrL"
      },
      "source": [
        "###**Ejercicio #4**\n",
        "Asumiendo que 𝐴, 𝐵, 𝐶 son listas con 𝑛 datos, realice y pruebe una función que calcule la siguiente sumatoria (vale por una tarea del curso).\n",
        "\n",
        "![Sumatoria_Ejercicio4](https://scontent.fbog2-4.fna.fbcdn.net/v/t39.30808-6/258006265_1283767328769142_4297727122060393759_n.jpg?_nc_cat=100&_nc_rgb565=1&ccb=1-5&_nc_sid=0debeb&_nc_ohc=GKBTv_5hpsEAX_dQcCa&_nc_ht=scontent.fbog2-4.fna&oh=a440dc21dcbface0b9c2d3f661172e51&oe=619CB059)"
      ]
    },
    {
      "cell_type": "code",
      "metadata": {
        "colab": {
          "base_uri": "https://localhost:8080/"
        },
        "id": "srcDYQkcCzh-",
        "outputId": "b61609b5-5075-4a50-8443-9ca96bc22c07"
      },
      "source": [
        "A=[4,6,8]\n",
        "B=[2,2,2]\n",
        "C=[1,2,3]\n",
        "def sumatoria_3(A,B,C):\n",
        "    n=len(A)\n",
        "    acumulador=0\n",
        "    for i in range(n):\n",
        "        d = A[i]*B[i]\n",
        "        e = C[i]+d\n",
        "        acumulador += e\n",
        "    resultado = acumulador + (n**2)\n",
        "    return resultado\n",
        "print(sumatoria_3(A, B, C))\n",
        "\n",
        "resultado_4 = (((4*2)+1)+((6*2)+2)+((8*2)+3)) + 9\n",
        "print(resultado_4)"
      ],
      "execution_count": null,
      "outputs": [
        {
          "output_type": "stream",
          "name": "stdout",
          "text": [
            "51\n",
            "51\n"
          ]
        }
      ]
    },
    {
      "cell_type": "markdown",
      "metadata": {
        "id": "fwv27AcBCz1N"
      },
      "source": [
        "###**Ejercicio #5**\n",
        "Asumiendo que 𝐴, 𝐵, son listas con 2𝑛 datos cada una, realice y pruebe una función que llene la lista 𝐶 con los siguientes 𝑛 datos (vale por una tarea del curso).\n",
        "\n",
        "![Sumatoria_Ejercicio5](https://scontent.fbog2-5.fna.fbcdn.net/v/t39.30808-6/258317007_1283767822102426_4172734512636512491_n.jpg?_nc_cat=105&_nc_rgb565=1&ccb=1-5&_nc_sid=0debeb&_nc_ohc=BjV417af9ZIAX8yvb-e&_nc_ht=scontent.fbog2-5.fna&oh=3142dbfd182b9481642792fef611f9df&oe=619D3CAE)"
      ]
    },
    {
      "cell_type": "code",
      "metadata": {
        "colab": {
          "base_uri": "https://localhost:8080/"
        },
        "id": "IyjU3ku2DEww",
        "outputId": "d626d369-7755-4d41-ca02-0c4b223881cc"
      },
      "source": [
        "A=[4,6,8,2]\n",
        "B=[2,1,0,-1]\n",
        "def llena_lista_2(A,B):\n",
        "    n=len(A)//2\n",
        "    C=[]\n",
        "    for i in range(n):\n",
        "        d=(A[i+1])**2\n",
        "        e=B[2*i]*d\n",
        "        f=e+B[n+i]\n",
        "        C.append(f)\n",
        "    return C\n",
        "print(llena_lista_2(A, B))\n",
        "\n",
        "resultado_5 = [6**2*2+0,8**2*0-1]\n",
        "print(resultado_5)"
      ],
      "execution_count": null,
      "outputs": [
        {
          "output_type": "stream",
          "name": "stdout",
          "text": [
            "[72, -1]\n",
            "[72, -1]\n"
          ]
        }
      ]
    }
  ]
}
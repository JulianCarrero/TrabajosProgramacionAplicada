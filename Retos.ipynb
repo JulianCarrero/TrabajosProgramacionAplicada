{
  "nbformat": 4,
  "nbformat_minor": 0,
  "metadata": {
    "colab": {
      "name": "Retos.ipynb",
      "provenance": [],
      "authorship_tag": "ABX9TyP18qcdvhKjT99p0x6bX0Kt",
      "include_colab_link": true
    },
    "kernelspec": {
      "name": "python3",
      "display_name": "Python 3"
    },
    "language_info": {
      "name": "python"
    }
  },
  "cells": [
    {
      "cell_type": "markdown",
      "metadata": {
        "id": "view-in-github",
        "colab_type": "text"
      },
      "source": [
        "<a href=\"https://colab.research.google.com/github/JulianCarrero/TrabajosProgramacionAplicada/blob/main/Retos.ipynb\" target=\"_parent\"><img src=\"https://colab.research.google.com/assets/colab-badge.svg\" alt=\"Open In Colab\"/></a>"
      ]
    },
    {
      "cell_type": "markdown",
      "source": [
        "##_Julian David Carrero Ariza_\n",
        "$Cod.20201005199$\n",
        "#Alto código - Retos en Python\n",
        "_\"Ejercicios de recuperación\"_"
      ],
      "metadata": {
        "id": "pxtlcUqeYGsI"
      }
    },
    {
      "cell_type": "markdown",
      "source": [
        "###**Reto 6. Intervalos**"
      ],
      "metadata": {
        "id": "sTW3YROUYfzk"
      }
    },
    {
      "cell_type": "code",
      "execution_count": 29,
      "metadata": {
        "colab": {
          "base_uri": "https://localhost:8080/"
        },
        "id": "vIjE8IUEWTGD",
        "outputId": "14479670-2a85-4db8-997e-3d8e129134b4"
      },
      "outputs": [
        {
          "output_type": "stream",
          "name": "stdout",
          "text": [
            "Tu suerte es: 44\n",
            "Quiza no sea buena idea salir con esta tormenta de truenos, tu suerte esta apenas entre 10 y 50\n"
          ]
        }
      ],
      "source": [
        "import random\n",
        "a = list(range(1,121))\n",
        "b = random.choice (a)\n",
        "print('Tu suerte es:', b)\n",
        "if (b < 10 ):\n",
        " print('Ten cuidado; tu suerte es menor a  10')\n",
        "elif (b <50):\n",
        " print('Quiza no sea buena idea salir con esta tormenta de truenos, tu suerte esta apenas entre 10 y 50')\n",
        "elif (b <100):\n",
        " print('Eso quiere decir que estas por encima del promedio. ¡Felicitaciones! (tu suerte esta entre 50 y 100)')\n",
        "else:\n",
        " print('¡Impresionante! tu suerte es máxima (100)')"
      ]
    },
    {
      "cell_type": "markdown",
      "source": [
        "###**Reto 8. Pares**"
      ],
      "metadata": {
        "id": "5n3D-CsRYoOZ"
      }
    },
    {
      "cell_type": "code",
      "source": [
        "print('sumando el número de 2 en 2, entre 2 y 40 el resultado es:')\n",
        "for x in range(2, 41, 2):\n",
        "  \n",
        "   print(x)\n",
        " "
      ],
      "metadata": {
        "colab": {
          "base_uri": "https://localhost:8080/"
        },
        "id": "31LwMye7ZazT",
        "outputId": "61b36179-9d31-4ca3-a011-e268ac7606af"
      },
      "execution_count": 31,
      "outputs": [
        {
          "output_type": "stream",
          "name": "stdout",
          "text": [
            "sumando el número de 2 en 2, entre 2 y 40 el resultado es:\n",
            "2\n",
            "4\n",
            "6\n",
            "8\n",
            "10\n",
            "12\n",
            "14\n",
            "16\n",
            "18\n",
            "20\n",
            "22\n",
            "24\n",
            "26\n",
            "28\n",
            "30\n",
            "32\n",
            "34\n",
            "36\n",
            "38\n",
            "40\n"
          ]
        }
      ]
    },
    {
      "cell_type": "markdown",
      "source": [
        "###**Reto 9. Series**"
      ],
      "metadata": {
        "id": "0MTKdjiPYr-Z"
      }
    },
    {
      "cell_type": "code",
      "source": [
        "##Se observo la solución propuesta de la página\n",
        "\n",
        "import random\n",
        "random.seed() \n",
        "inicial=random.randint(150,200)\n",
        "final=inicial+random.randint(30,70)\n",
        "intervalo=random.randint(3,7)\n",
        "print('Inicial=',inicial)\n",
        "print('Final=',final)\n",
        "print('Intervalo=',intervalo)\n",
        "i=inicial\n",
        "L=[] \n",
        "total=0 \n",
        "while i<final:\n",
        "  L.append(i) \n",
        "  i+=intervalo \n",
        "  total+=i\n",
        "print(L)\n",
        "print('La suma total es:',total)"
      ],
      "metadata": {
        "colab": {
          "base_uri": "https://localhost:8080/"
        },
        "id": "8pvxQ09pZbSL",
        "outputId": "7f553084-a060-4988-ca7e-fc07410d3012"
      },
      "execution_count": 32,
      "outputs": [
        {
          "output_type": "stream",
          "name": "stdout",
          "text": [
            "Inicial= 164\n",
            "Final= 203\n",
            "Intervalo= 6\n",
            "[164, 170, 176, 182, 188, 194, 200]\n",
            "La suma total es: 1316\n"
          ]
        }
      ]
    },
    {
      "cell_type": "markdown",
      "source": [
        "###**Reto 10. Progresión geométrica**"
      ],
      "metadata": {
        "id": "P_T3dgSyYsmY"
      }
    },
    {
      "cell_type": "code",
      "source": [
        "##Se observo la solución propuesta de la página\n",
        "s=0\n",
        "for i in range(8*8):\n",
        "  s+=2**i\n",
        "  print(i+1,2**i,s)\n",
        "print(\"En notación científica es %e,\\n y el total es: %E granos de trigo.\" % (2**i,s))"
      ],
      "metadata": {
        "colab": {
          "base_uri": "https://localhost:8080/"
        },
        "id": "gm_6mqYyZbnN",
        "outputId": "bccc787f-9cfe-4c4e-a447-3768b69f1411"
      },
      "execution_count": 33,
      "outputs": [
        {
          "output_type": "stream",
          "name": "stdout",
          "text": [
            "1 1 1\n",
            "2 2 3\n",
            "3 4 7\n",
            "4 8 15\n",
            "5 16 31\n",
            "6 32 63\n",
            "7 64 127\n",
            "8 128 255\n",
            "9 256 511\n",
            "10 512 1023\n",
            "11 1024 2047\n",
            "12 2048 4095\n",
            "13 4096 8191\n",
            "14 8192 16383\n",
            "15 16384 32767\n",
            "16 32768 65535\n",
            "17 65536 131071\n",
            "18 131072 262143\n",
            "19 262144 524287\n",
            "20 524288 1048575\n",
            "21 1048576 2097151\n",
            "22 2097152 4194303\n",
            "23 4194304 8388607\n",
            "24 8388608 16777215\n",
            "25 16777216 33554431\n",
            "26 33554432 67108863\n",
            "27 67108864 134217727\n",
            "28 134217728 268435455\n",
            "29 268435456 536870911\n",
            "30 536870912 1073741823\n",
            "31 1073741824 2147483647\n",
            "32 2147483648 4294967295\n",
            "33 4294967296 8589934591\n",
            "34 8589934592 17179869183\n",
            "35 17179869184 34359738367\n",
            "36 34359738368 68719476735\n",
            "37 68719476736 137438953471\n",
            "38 137438953472 274877906943\n",
            "39 274877906944 549755813887\n",
            "40 549755813888 1099511627775\n",
            "41 1099511627776 2199023255551\n",
            "42 2199023255552 4398046511103\n",
            "43 4398046511104 8796093022207\n",
            "44 8796093022208 17592186044415\n",
            "45 17592186044416 35184372088831\n",
            "46 35184372088832 70368744177663\n",
            "47 70368744177664 140737488355327\n",
            "48 140737488355328 281474976710655\n",
            "49 281474976710656 562949953421311\n",
            "50 562949953421312 1125899906842623\n",
            "51 1125899906842624 2251799813685247\n",
            "52 2251799813685248 4503599627370495\n",
            "53 4503599627370496 9007199254740991\n",
            "54 9007199254740992 18014398509481983\n",
            "55 18014398509481984 36028797018963967\n",
            "56 36028797018963968 72057594037927935\n",
            "57 72057594037927936 144115188075855871\n",
            "58 144115188075855872 288230376151711743\n",
            "59 288230376151711744 576460752303423487\n",
            "60 576460752303423488 1152921504606846975\n",
            "61 1152921504606846976 2305843009213693951\n",
            "62 2305843009213693952 4611686018427387903\n",
            "63 4611686018427387904 9223372036854775807\n",
            "64 9223372036854775808 18446744073709551615\n",
            "En notación científica es 9.223372e+18,\n",
            " y el total es: 1.844674E+19 granos de trigo.\n"
          ]
        }
      ]
    },
    {
      "cell_type": "markdown",
      "source": [
        "###**Reto 13. Media de dos números**"
      ],
      "metadata": {
        "id": "6LX3r-QxYtKB"
      }
    },
    {
      "cell_type": "code",
      "source": [
        "print('Para calcular la media de su edad y de un familiar solo necesito:')\n",
        "x = float(input(\"Su edad \\n\")) \n",
        "y = float(input(\"La de su pariente \\n\"))\n",
        "z= (x+y)/2\n",
        "print('Su edad: \\n', x )\n",
        "print('La de su familiar: \\n',y)\n",
        "print('Media de sus edades: \\n',z)"
      ],
      "metadata": {
        "colab": {
          "base_uri": "https://localhost:8080/"
        },
        "id": "Fqc7s1i5ZcMt",
        "outputId": "d1ded3f7-7637-4dfa-f2da-7a6fe7f3b413"
      },
      "execution_count": 34,
      "outputs": [
        {
          "output_type": "stream",
          "name": "stdout",
          "text": [
            "Para calcular la media de su edad y de un familiar solo necesito:\n",
            "Su edad \n",
            "50\n",
            "La de su pariente \n",
            "50\n",
            "Su edad: \n",
            " 50.0\n",
            "La de su familiar: \n",
            " 50.0\n",
            "Media de sus edades: \n",
            " 50.0\n"
          ]
        }
      ]
    },
    {
      "cell_type": "markdown",
      "source": [
        "###**Reto 15. Media de n valores**"
      ],
      "metadata": {
        "id": "owvSk8K1Ytrg"
      }
    },
    {
      "cell_type": "code",
      "source": [
        "##Se observo la solución propuesta de la página\n",
        "\n",
        "import random\n",
        "x=0\n",
        "y=0\n",
        "numeros=[]\n",
        "while (x < 2):\n",
        "  x = int(input('Ingrese una cantida (número) de números para escoger aleatoriamente \\n'))\n",
        "  \n",
        "while (y < x):\n",
        "  z = random.randint(1, 100) \n",
        "  numeros.append(z)\n",
        "  y+=1\n",
        "  print(z)\n",
        "def calcular(numeros,x):\n",
        "  w= sum(numeros)\n",
        "  v=w/x\n",
        "  return(v)\n",
        "print('La media los numeros que se eligieron aleatoreamente es =  \\n', calcular(numeros,x))"
      ],
      "metadata": {
        "colab": {
          "base_uri": "https://localhost:8080/"
        },
        "id": "Dj4mYDMjZclj",
        "outputId": "40ccb4b5-473d-4bb7-d81f-38f409f7dd00"
      },
      "execution_count": 36,
      "outputs": [
        {
          "output_type": "stream",
          "name": "stdout",
          "text": [
            "Ingrese una cantida (número) de números para escoger aleatoriamente \n",
            "185\n",
            "60\n",
            "11\n",
            "13\n",
            "51\n",
            "65\n",
            "99\n",
            "44\n",
            "80\n",
            "35\n",
            "76\n",
            "46\n",
            "50\n",
            "32\n",
            "94\n",
            "67\n",
            "5\n",
            "62\n",
            "90\n",
            "31\n",
            "2\n",
            "76\n",
            "44\n",
            "84\n",
            "58\n",
            "12\n",
            "41\n",
            "100\n",
            "14\n",
            "44\n",
            "100\n",
            "32\n",
            "54\n",
            "84\n",
            "45\n",
            "18\n",
            "25\n",
            "68\n",
            "4\n",
            "45\n",
            "86\n",
            "65\n",
            "49\n",
            "1\n",
            "86\n",
            "15\n",
            "71\n",
            "92\n",
            "12\n",
            "14\n",
            "85\n",
            "95\n",
            "38\n",
            "7\n",
            "42\n",
            "46\n",
            "85\n",
            "3\n",
            "59\n",
            "90\n",
            "100\n",
            "48\n",
            "23\n",
            "42\n",
            "40\n",
            "30\n",
            "77\n",
            "79\n",
            "34\n",
            "18\n",
            "85\n",
            "8\n",
            "88\n",
            "59\n",
            "59\n",
            "94\n",
            "92\n",
            "35\n",
            "67\n",
            "84\n",
            "88\n",
            "53\n",
            "6\n",
            "7\n",
            "53\n",
            "29\n",
            "96\n",
            "52\n",
            "43\n",
            "52\n",
            "5\n",
            "62\n",
            "21\n",
            "44\n",
            "21\n",
            "64\n",
            "19\n",
            "98\n",
            "15\n",
            "57\n",
            "11\n",
            "21\n",
            "21\n",
            "35\n",
            "54\n",
            "49\n",
            "20\n",
            "67\n",
            "24\n",
            "59\n",
            "2\n",
            "62\n",
            "21\n",
            "71\n",
            "24\n",
            "46\n",
            "99\n",
            "53\n",
            "33\n",
            "68\n",
            "52\n",
            "5\n",
            "59\n",
            "91\n",
            "79\n",
            "38\n",
            "19\n",
            "95\n",
            "57\n",
            "81\n",
            "14\n",
            "72\n",
            "8\n",
            "18\n",
            "67\n",
            "79\n",
            "62\n",
            "69\n",
            "55\n",
            "17\n",
            "5\n",
            "90\n",
            "2\n",
            "98\n",
            "34\n",
            "48\n",
            "88\n",
            "47\n",
            "1\n",
            "50\n",
            "33\n",
            "78\n",
            "4\n",
            "86\n",
            "89\n",
            "31\n",
            "54\n",
            "77\n",
            "89\n",
            "26\n",
            "87\n",
            "91\n",
            "38\n",
            "42\n",
            "17\n",
            "97\n",
            "61\n",
            "89\n",
            "86\n",
            "28\n",
            "93\n",
            "90\n",
            "33\n",
            "86\n",
            "73\n",
            "25\n",
            "69\n",
            "69\n",
            "48\n",
            "21\n",
            "44\n",
            "16\n",
            "55\n",
            "14\n",
            "17\n",
            "74\n",
            "La media los numeros que se eligieron aleatoreamente es =  \n",
            " 50.913513513513514\n"
          ]
        }
      ]
    },
    {
      "cell_type": "markdown",
      "source": [
        "###**Reto 17. Adivina el número secreto**"
      ],
      "metadata": {
        "id": "BGSkuhzBYu94"
      }
    },
    {
      "cell_type": "code",
      "source": [
        "##Se observo la solución propuesta de la página\n",
        "\n",
        "import random\n",
        "print('¿Te crees bueno adivinando?. escogeré un número entre 1 y 20 y tu debes')\n",
        "n=random.randrange(1,20)\n",
        "nu=int(input('decir el número que crees que he elegido: '))\n",
        "c=1\n",
        "while nu!=n:\n",
        "  c+=1\n",
        "  if nu>n:\n",
        "      nu=int(input('El número a adivinar es más pequeño: '))\n",
        "  elif nu<n:\n",
        "      nu=int(input('El número a adivinar es más grande:  '))\n",
        "print(f'Bien hecho! Has adivinado el número:{n}')\n",
        "print('Y tomaste',c,'intentos.')\n",
        "if (7>c):\n",
        "  print('What a fast!!!.')\n",
        "elif (7<c):\n",
        "  print('Demasiados intentos. Más suerte para la próxima')\n"
      ],
      "metadata": {
        "colab": {
          "base_uri": "https://localhost:8080/"
        },
        "id": "WmDm4U-vZc8D",
        "outputId": "602465cd-48a8-4d1a-b52c-b10aee00ccde"
      },
      "execution_count": 38,
      "outputs": [
        {
          "output_type": "stream",
          "name": "stdout",
          "text": [
            "¿Te crees bueno adivinando?. escogeré un número entre 1 y 20 y tu debes\n",
            "decir el número que crees que he elegido: 10\n",
            "El número a adivinar es más pequeño: 5\n",
            "El número a adivinar es más grande:  8\n",
            "El número a adivinar es más pequeño: 7\n",
            "El número a adivinar es más pequeño: 6\n",
            "Bien hecho! Has adivinado el número:6\n",
            "Y tomaste 5 intentos.\n",
            "What a fast!!!.\n"
          ]
        }
      ]
    },
    {
      "cell_type": "markdown",
      "source": [
        "###**Reto 20. Bisiesto**"
      ],
      "metadata": {
        "id": "jvltOEQwYvr5"
      }
    },
    {
      "cell_type": "code",
      "source": [
        "def bisiesto(x):\n",
        "  if x%4==0 and (not(x%100==0) or x%400==0 ):\n",
        "    texto='El año seleccionado fue bisiesto.'\n",
        "  else:\n",
        "    texto='El año NO era bisiesto.'\n",
        "  return texto\n",
        "x=int(input('Introduzca un año entre 4 y 2021: '))\n",
        "print(x,bisiesto(x))"
      ],
      "metadata": {
        "colab": {
          "base_uri": "https://localhost:8080/"
        },
        "id": "TGVlbzGCZdRb",
        "outputId": "a4688bfc-5e5c-419e-dbb9-8efce02f3dca"
      },
      "execution_count": 39,
      "outputs": [
        {
          "output_type": "stream",
          "name": "stdout",
          "text": [
            "Introduzca un año entre 4 y 2021: 2014\n",
            "2014 El año NO era bisiesto.\n"
          ]
        }
      ]
    },
    {
      "cell_type": "markdown",
      "source": [
        "###**Reto 26. Cifras pares e impares**"
      ],
      "metadata": {
        "id": "tADbwk5RYwSh"
      }
    },
    {
      "cell_type": "code",
      "source": [
        "from random import randint\n",
        "print('Elegire un numero, entre 100000 y 999999, luego veras el resto:')\n",
        "x = randint(100000, 1000000)\n",
        "print(f'El número elegido es: {x}')\n",
        "x=str(x)\n",
        "par=0\n",
        "for i in x:\n",
        "  if int(i)%2==0:\n",
        "    par+=1\n",
        "print('En dicho número hay:')\n",
        "print('Un total de',par,'cifras pares')\n",
        "print('Un total de',6-par,'cifras impares')"
      ],
      "metadata": {
        "colab": {
          "base_uri": "https://localhost:8080/"
        },
        "id": "NNLt-ucfZdpT",
        "outputId": "a016b6ab-c9fa-4ef4-bf2c-cb42eb4a90e3"
      },
      "execution_count": 58,
      "outputs": [
        {
          "output_type": "stream",
          "name": "stdout",
          "text": [
            "Elegire un numero, entre 100000 y 999999, luego veras el resto:\n",
            "El número elegido es: 646540\n",
            "En dicho número hay:\n",
            "Un total de 5 cifras pares\n",
            "Un total de 1 cifras impares\n"
          ]
        }
      ]
    },
    {
      "cell_type": "markdown",
      "source": [
        "###**Reto 27. Máximo y mínimo**"
      ],
      "metadata": {
        "id": "B_hWJeO0aRwe"
      }
    },
    {
      "cell_type": "code",
      "source": [
        "from random import randint\n",
        "x=0\n",
        "lista=[]\n",
        "while x<10:\n",
        "  w=randint(1, 1998)\n",
        "  lista.append(w)\n",
        "  x+=1\n",
        "print('Los numeros generados aleatoriamente son los siguientes:', lista)\n",
        "maxi=lista[0] \n",
        "mini=lista[0] \n",
        "for i in range (10):\n",
        "  if lista[i]>=maxi:\n",
        "    maxi=lista[i]\n",
        "  elif lista[i]<=mini:\n",
        "    mini=lista[i]\n",
        "print('De los cuales el MAXIMO ES:',maxi)\n",
        "print('Y el MINIMO ES:',mini)"
      ],
      "metadata": {
        "colab": {
          "base_uri": "https://localhost:8080/"
        },
        "id": "7BqM0rF5afgO",
        "outputId": "79955955-da0a-49e3-b0eb-dc43a40d6b59"
      },
      "execution_count": 61,
      "outputs": [
        {
          "output_type": "stream",
          "name": "stdout",
          "text": [
            "Los numeros generados aleatoriamente son los siguientes: [433, 767, 56, 1027, 856, 250, 1346, 719, 72, 851]\n",
            "De los cuales el MAXIMO ES: 1346\n",
            "Y el MINIMO ES: 56\n"
          ]
        }
      ]
    }
  ]
}
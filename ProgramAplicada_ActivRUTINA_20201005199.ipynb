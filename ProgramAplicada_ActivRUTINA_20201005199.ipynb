{
  "nbformat": 4,
  "nbformat_minor": 0,
  "metadata": {
    "colab": {
      "name": "ProgramAplicada_ActivRUTINA_20201005199",
      "provenance": [],
      "authorship_tag": "ABX9TyM7+SP3wo9b6yJuRooE2yEi",
      "include_colab_link": true
    },
    "kernelspec": {
      "name": "python3",
      "display_name": "Python 3"
    },
    "language_info": {
      "name": "python"
    }
  },
  "cells": [
    {
      "cell_type": "markdown",
      "metadata": {
        "id": "view-in-github",
        "colab_type": "text"
      },
      "source": [
        "<a href=\"https://colab.research.google.com/github/JulianCarrero/TrabajosProgramacionAplicada/blob/main/ProgramAplicada_ActivRUTINA_20201005199.ipynb\" target=\"_parent\"><img src=\"https://colab.research.google.com/assets/colab-badge.svg\" alt=\"Open In Colab\"/></a>"
      ]
    },
    {
      "cell_type": "markdown",
      "metadata": {
        "id": "WZ-lq-Nv6dEc"
      },
      "source": [
        "\n",
        "#**ACTIVIDAD / RETO**\n",
        "<center>\n",
        "$FUNCTION->RIMA$"
      ]
    },
    {
      "cell_type": "markdown",
      "metadata": {
        "id": "RNIHTTOO7LrM"
      },
      "source": [
        "##Descripción\n",
        "Realizar una función `rima` que encuentre las palabras que finalizan según el parámetro **an**"
      ]
    },
    {
      "cell_type": "code",
      "metadata": {
        "id": "bsQkRTgm77MX"
      },
      "source": [
        ""
      ],
      "execution_count": null,
      "outputs": []
    }
  ]
}
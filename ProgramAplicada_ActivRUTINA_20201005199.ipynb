{
  "nbformat": 4,
  "nbformat_minor": 0,
  "metadata": {
    "colab": {
      "name": "ProgramAplicada_ActivRUTINA_20201005199",
      "provenance": [],
      "collapsed_sections": [],
      "authorship_tag": "ABX9TyPpfEZhD0/BWMzjlj1eD7TF",
      "include_colab_link": true
    },
    "kernelspec": {
      "name": "python3",
      "display_name": "Python 3"
    },
    "language_info": {
      "name": "python"
    }
  },
  "cells": [
    {
      "cell_type": "markdown",
      "metadata": {
        "id": "view-in-github",
        "colab_type": "text"
      },
      "source": [
        "<a href=\"https://colab.research.google.com/github/JulianCarrero/TrabajosProgramacionAplicada/blob/main/ProgramAplicada_ActivRUTINA_20201005199.ipynb\" target=\"_parent\"><img src=\"https://colab.research.google.com/assets/colab-badge.svg\" alt=\"Open In Colab\"/></a>"
      ]
    },
    {
      "cell_type": "markdown",
      "metadata": {
        "id": "WZ-lq-Nv6dEc"
      },
      "source": [
        "\n",
        "#**ACTIVIDAD / RETO**\n",
        "<center>\n",
        "$FUNCTION->RIMA$"
      ]
    },
    {
      "cell_type": "markdown",
      "metadata": {
        "id": "RNIHTTOO7LrM"
      },
      "source": [
        "##Descripción\n",
        "Realizar una función `rima` que encuentre las palabras que finalizan según el parámetro **an**"
      ]
    },
    {
      "cell_type": "code",
      "metadata": {
        "id": "bsQkRTgm77MX"
      },
      "source": [
        "archivo  = open('palabras500.csv', encoding=\"utf-8\")\n",
        "lineas = archivo.readlines()\n",
        "archivo.close()"
      ],
      "execution_count": 25,
      "outputs": []
    },
    {
      "cell_type": "code",
      "metadata": {
        "colab": {
          "base_uri": "https://localhost:8080/"
        },
        "id": "EG4IruoJR-9A",
        "outputId": "dfb50efb-1985-4dbe-f2f8-aae9be68e9a0"
      },
      "source": [
        "rima = input('Escriba las terminaciones con las que quiere coincidir: ')\n",
        "for i in lineas:\n",
        "  if rima+'\\n' in i:\n",
        "    print(i)"
      ],
      "execution_count": 26,
      "outputs": [
        {
          "output_type": "stream",
          "name": "stdout",
          "text": [
            "Escriba las terminaciones con las que quiere coincidir: an\n",
            "han\n",
            "\n",
            "tan\n",
            "\n",
            "san\n",
            "\n",
            "van\n",
            "\n",
            "plan\n",
            "\n"
          ]
        }
      ]
    }
  ]
}